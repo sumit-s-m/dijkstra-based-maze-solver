{
 "cells": [
  {
   "cell_type": "code",
   "execution_count": 24,
   "metadata": {},
   "outputs": [],
   "source": [
    "import cv2\n",
    "import matplotlib.pyplot as plt\n",
    "import numpy as np\n",
    "import heapq"
   ]
  },
  {
   "cell_type": "code",
   "execution_count": 25,
   "metadata": {},
   "outputs": [],
   "source": [
    "#We define this class for the graph\n",
    "class Vertex:\n",
    "    def __init__(self,x_coord,y_coord):\n",
    "        self.x=x_coord # x_cord of vertex\n",
    "        self.y=y_coord # y_cord of vertex\n",
    "        self.d=float('inf') #distance from source\n",
    "        self.parent_x=None\n",
    "        self.parent_y=None\n",
    "        self.processed=False\n",
    "        self.index_in_queue=None "
   ]
  },
  {
   "cell_type": "code",
   "execution_count": 26,
   "metadata": {},
   "outputs": [],
   "source": [
    "#Return neighbor directly above, below, right, and left\n",
    "def get_neighbors(mat,r,c):\n",
    "    shape=mat.shape\n",
    "    neighbors=[]\n",
    "    if r > 0 and not mat[r-1][c].processed: #if within the image and not processed append into neighbours array\n",
    "         neighbors.append(mat[r-1][c])\n",
    "    if r < shape[0] - 1 and not mat[r+1][c].processed:\n",
    "            neighbors.append(mat[r+1][c])\n",
    "    if c > 0 and not mat[r][c-1].processed:\n",
    "        neighbors.append(mat[r][c-1])\n",
    "    if c < shape[1] - 1 and not mat[r][c+1].processed:\n",
    "            neighbors.append(mat[r][c+1])\n",
    "    return neighbors"
   ]
  },
  {
   "cell_type": "code",
   "execution_count": 27,
   "metadata": {},
   "outputs": [],
   "source": [
    "#We use priority queue to store the unprocessed nodes of the graph we define the reheap up and reheap down functions\n",
    "def reheap_up(queue, index):\n",
    "    if index <= 0:\n",
    "        return queue\n",
    "    p_index=(index-1)//2\n",
    "    if queue[index].d < queue[p_index].d:\n",
    "            queue[index], queue[p_index]=queue[p_index], queue[index]\n",
    "            queue[index].index_in_queue=index\n",
    "            queue[p_index].index_in_queue=p_index\n",
    "            quque = reheap_up(queue, p_index)\n",
    "    return queue\n",
    "\n",
    "def reheap_down(queue, index):\n",
    "    length=len(queue)\n",
    "    lc_index=2*index+1\n",
    "    rc_index=lc_index+1\n",
    "    if lc_index >= length:\n",
    "        return queue\n",
    "    if lc_index < length and rc_index >= length: #just left child\n",
    "        if queue[index].d > queue[lc_index].d:\n",
    "            queue[index], queue[lc_index]=queue[lc_index], queue[index]\n",
    "            queue[index].index_in_queue=index\n",
    "            queue[lc_index].index_in_queue=lc_index\n",
    "            queue = reheap_down(queue, lc_index)\n",
    "    else:\n",
    "        small = lc_index\n",
    "        if queue[lc_index].d > queue[rc_index].d:\n",
    "            small = rc_index\n",
    "        if queue[small].d < queue[index].d:\n",
    "            queue[index],queue[small]=queue[small],queue[index]\n",
    "            queue[index].index_in_queue=index\n",
    "            queue[small].index_in_queue=small\n",
    "            queue = reheap_down(queue, small)\n",
    "    return queue\n",
    "\n",
    "#Calculating eucledian distance btw two nodes .1 is added to ensure that distance is non zero value\n",
    "\n",
    "def get_distance(img,u,v):\n",
    "    return 0.1 + (float(img[v][0])-float(img[u][0]))**2+(float(img[v][1])-float(img[u][1]))**2+(float(img[v][2])-float(img[u][2]))**2\n",
    "\n",
    "#Function used to visualize the path\n",
    "\n",
    "def drawPath(img, path, thickness = 1):\n",
    "    '''path contains all the cordinates of vertexes'''\n",
    "    x0,y0=path[0]\n",
    "    for vertex in path[1:]:\n",
    "        x1,y1=vertex\n",
    "        cv2.line(img,(x0,y0),(x1,y1),(255,0,0),thickness)\n",
    "        x0,y0=vertex"
   ]
  },
  {
   "cell_type": "code",
   "execution_count": 28,
   "metadata": {},
   "outputs": [],
   "source": [
    "def find_shortest_path(img,src,dst):\n",
    "    pq=[] #min-heap priority queue\n",
    "    source_x=src[0]\n",
    "    source_y=src[1]\n",
    "    dest_x=dst[0]\n",
    "    dest_y=dst[1]\n",
    "    imagerows,imagecols=img.shape[0],img.shape[1]\n",
    "    matrix = np.full((imagerows, imagecols), None) #Creates an empty 2d numpy array\n",
    "    for r in range(imagerows):\n",
    "        for c in range(imagecols):\n",
    "            matrix[r][c]=Vertex(c,r)#Constructor call\n",
    "            matrix[r][c].index_in_queue=len(pq)\n",
    "            pq.append(matrix[r][c])\n",
    "    matrix[source_y][source_x].d=0\n",
    "    pq=reheap_up(pq, matrix[source_y][source_x].index_in_queue)\n",
    "    \n",
    "    while len(pq) > 0:\n",
    "        u=pq[0]\n",
    "        u.processed=True\n",
    "        pq[0]=pq[-1] #Pop gives last element, so we exchange the first element with the last element\n",
    "        pq[0].index_in_queue=0\n",
    "        pq.pop()\n",
    "        pq=reheap_down(pq,0)\n",
    "        #Dijkistra algorithm \n",
    "        neighbors = get_neighbors(matrix,u.y,u.x)\n",
    "        for v in neighbors:\n",
    "            dist=get_distance(img,(u.y,u.x),(v.y,v.x))\n",
    "            if u.d + dist < v.d:\n",
    "                v.d = u.d+dist\n",
    "                v.parent_x=u.x\n",
    "                v.parent_y=u.y\n",
    "                idx=v.index_in_queue\n",
    "                pq=reheap_down(pq,idx)\n",
    "                pq=reheap_up(pq,idx)\n",
    "                          \n",
    "    path=[]\n",
    "    d1=matrix[dest_y][dest_x]\n",
    "    path.append((dest_x,dest_y))\n",
    "    while(d1.y!=source_y or d1.x!=source_x):\n",
    "        path.append((d1.x,d1.y))\n",
    "        d1=matrix[d1.parent_y][d1.parent_x]\n",
    "\n",
    "        \n",
    "    path.append((source_x,source_y))\n",
    "    return path"
   ]
  },
  {
   "cell_type": "code",
   "execution_count": 29,
   "metadata": {},
   "outputs": [
    {
     "data": {
      "image/png": "[encoded data removed]",
      "text/plain": [
       "<Figure size 504x504 with 1 Axes>"
      ]
     },
     "metadata": {
      "needs_background": "light"
     },
     "output_type": "display_data"
    }
   ],
   "source": [
    "img = cv2.imread('maze.png')\n",
    "#Let's visualize the image by drawing circles at entry and exit point\n",
    "cv2.circle(img,(163,42), 2, (255,0,0), -1) \n",
    "cv2.circle(img, (1,114), 2, (0,0,255), -1) \n",
    "plt.figure(figsize=(7,7))\n",
    "plt.imshow(img)\n",
    "plt.show()"
   ]
  },
  {
   "cell_type": "code",
   "execution_count": 35,
   "metadata": {},
   "outputs": [
    {
     "data": {
      "image/png": "[encoded data removed]",
      "text/plain": [
       "<Figure size 504x504 with 1 Axes>"
      ]
     },
     "metadata": {
      "needs_background": "light"
     },
     "output_type": "display_data"
    }
   ],
   "source": [
    "img = cv2.imread('maze.png') \n",
    "cv2.circle(img,(163,42), 2, (255,0,0), -1) \n",
    "cv2.circle(img, (2,114), 2, (0,0,255), -1) \n",
    "p = find_shortest_path(img, (3,114), (164,42))\n",
    "drawPath(img,p)\n",
    "plt.figure(figsize=(7,7))\n",
    "plt.imshow(img) \n",
    "plt.show()"
   ]
  }
 ],
 "metadata": {
  "kernelspec": {
   "display_name": "Python 3",
   "language": "python",
   "name": "python3"
  },
  "language_info": {
   "codemirror_mode": {
    "name": "ipython",
    "version": 3
   },
   "file_extension": ".py",
   "mimetype": "text/x-python",
   "name": "python",
   "nbconvert_exporter": "python",
   "pygments_lexer": "ipython3",
   "version": "3.7.4"
  }
 },
 "nbformat": 4,
 "nbformat_minor": 2
}
